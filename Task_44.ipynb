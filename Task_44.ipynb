{
 "cells": [
  {
   "attachments": {},
   "cell_type": "markdown",
   "metadata": {},
   "source": [
    "В ячейке ниже представлен код генерирующий DataFrame, которая состоит всего из 1 столбца. Ваша задача перевести его в one hot вид. Сможете ли вы это сделать без get_dummies?\n",
    "\n",
    "import random\n",
    "lst = ['robot'] * 10\n",
    "lst += ['human'] * 10\n",
    "random.shuffle(lst)\n",
    "data = pd.DataFrame({'whoAmI'lst})\n",
    "data.head()"
   ]
  },
  {
   "cell_type": "code",
   "execution_count": null,
   "metadata": {},
   "outputs": [],
   "source": [
    "import random\n",
    "import pandas\n",
    "\n",
    "def get_sequence():\n",
    "    sequence = ['Human'] * 10\n",
    "    sequence += ['Robot'] * 10\n",
    "    random.shuffle(sequence)\n",
    "    return sequence\n",
    "\n",
    "def get_one_hot_pandas_dataframe(sequence):\n",
    "    data = pandas.DataFrame({'Human': map(lambda string: int(string == 'Human'), sequence),\n",
    "                             'Robot': map(lambda string: int(string == 'Robot'), sequence)})\n",
    "    \n",
    "    return data\n",
    "\n",
    "\n",
    "get_one_hot_pandas_dataframe(get_sequence())"
   ]
  }
 ],
 "metadata": {
  "kernelspec": {
   "display_name": "Python 3",
   "language": "python",
   "name": "python3"
  },
  "language_info": {
   "codemirror_mode": {
    "name": "ipython",
    "version": 3
   },
   "file_extension": ".py",
   "mimetype": "text/x-python",
   "name": "python",
   "nbconvert_exporter": "python",
   "pygments_lexer": "ipython3",
   "version": "3.11.2"
  },
  "orig_nbformat": 4
 },
 "nbformat": 4,
 "nbformat_minor": 2
}
