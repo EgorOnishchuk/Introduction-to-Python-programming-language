{
  "nbformat": 4,
  "nbformat_minor": 0,
  "metadata": {
    "colab": {
      "provenance": [],
      "authorship_tag": "ABX9TyNqDAGIxbsnr7bx3dC7pyni",
      "include_colab_link": true
    },
    "kernelspec": {
      "name": "python3",
      "display_name": "Python 3"
    },
    "language_info": {
      "name": "python"
    }
  },
  "cells": [
    {
      "cell_type": "markdown",
      "metadata": {
        "id": "view-in-github",
        "colab_type": "text"
      },
      "source": [
        "<a href=\"https://colab.research.google.com/github/EgorOnishchuk/Introduction-to-Python-programming-language/blob/main/Task_42.ipynb\" target=\"_parent\"><img src=\"https://colab.research.google.com/assets/colab-badge.svg\" alt=\"Open In Colab\"/></a>"
      ]
    },
    {
      "cell_type": "markdown",
      "source": [
        "Узнать, какая максимальная households в зоне минимального значения population."
      ],
      "metadata": {
        "id": "1yQmMXEAY1LA"
      }
    },
    {
      "cell_type": "code",
      "execution_count": 1,
      "metadata": {
        "colab": {
          "base_uri": "https://localhost:8080/"
        },
        "id": "ejMyVaaMYUEW",
        "outputId": "1c2f9ae0-9374-4a17-8b51-309f3526371b"
      },
      "outputs": [
        {
          "output_type": "execute_result",
          "data": {
            "text/plain": [
              "4.0"
            ]
          },
          "metadata": {},
          "execution_count": 1
        }
      ],
      "source": [
        "import pandas\n",
        "\n",
        "dataframe = pandas.read_csv('sample_data/california_housing_train.csv')\n",
        "dataframe[dataframe['population'] == dataframe['population'].min()]['households'].max()"
      ]
    }
  ]
}